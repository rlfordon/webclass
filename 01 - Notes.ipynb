{
 "cells": [
  {
   "cell_type": "markdown",
   "metadata": {},
   "source": [
    "# Unit Testing\n",
    "\n",
    "- Check edge cases\n",
    "- Check if / else conditions\n",
    "\n",
    "Coverage - see tool on github (coveralls)\n",
    "- above 70% is good, above 80% is better"
   ]
  },
  {
   "cell_type": "markdown",
   "metadata": {},
   "source": [
    "# Version Control / Github\n",
    "\n",
    "Tool: https://onlywei.github.io/explain-git-with-d3/#commit\n",
    "\n",
    "git diff - to see what you're changing before you commit\n",
    "\n",
    "How often to commit: generally everytime you have something working (don't commit anything broken)"
   ]
  },
  {
   "cell_type": "markdown",
   "metadata": {},
   "source": [
    "# Some other notes\n"
   ]
  },
  {
   "cell_type": "markdown",
   "metadata": {},
   "source": [
    "## Decorators \n",
    "\n",
    "@ sign, along with type of decorator your giving it\n",
    "\n",
    "@property - for this object, you can call this method without the parentheses, and it acts as an attribute not a method"
   ]
  },
  {
   "cell_type": "markdown",
   "metadata": {},
   "source": [
    "## Object-Oriented Programming"
   ]
  },
  {
   "cell_type": "code",
   "execution_count": 6,
   "metadata": {},
   "outputs": [
    {
     "data": {
      "text/plain": [
       "__main__.Person"
      ]
     },
     "execution_count": 6,
     "metadata": {},
     "output_type": "execute_result"
    }
   ],
   "source": [
    "class Person(): \n",
    "    pass\n",
    "\n",
    "rebecca = Person()\n",
    "type(rebecca)"
   ]
  },
  {
   "cell_type": "markdown",
   "metadata": {},
   "source": [
    "a constructor is a method of a class that gets called automatically for every instantiation. "
   ]
  },
  {
   "cell_type": "code",
   "execution_count": 7,
   "metadata": {},
   "outputs": [
    {
     "data": {
      "text/plain": [
       "'Rebecca Fordon'"
      ]
     },
     "execution_count": 7,
     "metadata": {},
     "output_type": "execute_result"
    }
   ],
   "source": [
    "class Person(): \n",
    "    def __init__(self, inputname): \n",
    "        self.fullname = inputname\n",
    "\n",
    "rebecca = Person('Rebecca Fordon')\n",
    "\n",
    "rebecca.fullname"
   ]
  },
  {
   "cell_type": "code",
   "execution_count": 9,
   "metadata": {
    "collapsed": true
   },
   "outputs": [],
   "source": [
    "class Person(): \n",
    "    \n",
    "    def __init__(self, fname, lname): \n",
    "        self.first_name = fname\n",
    "        self.last_name = lname\n",
    "        \n",
    "    def fullname(self): \n",
    "        return '{}, {}'.format(self.last_name, self.first_name)\n",
    "\n",
    "rebecca = Person('Rebecca', 'Fordon')\n"
   ]
  },
  {
   "cell_type": "code",
   "execution_count": 10,
   "metadata": {},
   "outputs": [
    {
     "name": "stdout",
     "output_type": "stream",
     "text": [
      "<__main__.Person object at 0x104786ef0>\n"
     ]
    }
   ],
   "source": [
    "print(rebecca)"
   ]
  },
  {
   "cell_type": "code",
   "execution_count": 11,
   "metadata": {},
   "outputs": [
    {
     "name": "stdout",
     "output_type": "stream",
     "text": [
      "Rebecca\n"
     ]
    }
   ],
   "source": [
    "print(rebecca.first_name)"
   ]
  },
  {
   "cell_type": "code",
   "execution_count": 12,
   "metadata": {},
   "outputs": [
    {
     "name": "stdout",
     "output_type": "stream",
     "text": [
      "Fordon, Rebecca\n"
     ]
    }
   ],
   "source": [
    "print(rebecca.fullname())"
   ]
  },
  {
   "cell_type": "code",
   "execution_count": 13,
   "metadata": {},
   "outputs": [
    {
     "data": {
      "text/plain": [
       "'Fordon, Rebecca'"
      ]
     },
     "execution_count": 13,
     "metadata": {},
     "output_type": "execute_result"
    }
   ],
   "source": [
    "rebecca.fullname()"
   ]
  },
  {
   "cell_type": "markdown",
   "metadata": {},
   "source": [
    "## Inheritance"
   ]
  },
  {
   "cell_type": "code",
   "execution_count": 27,
   "metadata": {
    "collapsed": true
   },
   "outputs": [],
   "source": [
    "class Person(): \n",
    "    \n",
    "    def __init__(self, fname, lname, dob, uid): \n",
    "        self.fname = fname\n",
    "        self.lname = lname\n",
    "        self.dob = dob\n",
    "        self.uid = uid\n",
    "        \n",
    "    def report(self): \n",
    "        return 'Name: {} {}\\nUID: {}\\nDOB: {}'.format(self.fname, self.lname, self.dob, self.uid)\n",
    "    \n",
    "class Instructor(Person):\n",
    "    \n",
    "    def __init__(self, fname, lname, dob, uid, rank, dept, salary): \n",
    "        super().__init__(fname, lname, dob, uid)\n",
    "        self.rank = rank\n",
    "        self.dept = dept\n",
    "        self.salary = salary\n",
    "        \n",
    "    def report(self): \n",
    "        output = super().report()\n",
    "        return output + '\\nRANK: {}\\nDEPT: {}\\nSALARY: {}'.format(self.rank, self.dept, self.salary)\n",
    "    \n",
    "    def give_raise(self, rate_increase): \n",
    "        self.salary += rate_increase\n",
    "        \n",
    "class Student(Person): \n",
    "    def __init__(self, fname, lname, dob, uid, major, year):\n",
    "        super().__init__(fname, lname, dob, uid)\n",
    "        self.major = major\n",
    "        self.year = year"
   ]
  },
  {
   "cell_type": "code",
   "execution_count": null,
   "metadata": {
    "collapsed": true
   },
   "outputs": [],
   "source": []
  },
  {
   "cell_type": "code",
   "execution_count": 31,
   "metadata": {
    "collapsed": true
   },
   "outputs": [],
   "source": [
    "from datetime import date \n",
    "\n",
    "rebecca = Student('Rebecca', 'Fordon', '12345', date(1980,11,24), 'is', 'Senior')"
   ]
  },
  {
   "cell_type": "code",
   "execution_count": 32,
   "metadata": {},
   "outputs": [
    {
     "name": "stdout",
     "output_type": "stream",
     "text": [
      "Name: Rebecca Fordon\n",
      "UID: 12345\n",
      "DOB: 1980-11-24\n"
     ]
    }
   ],
   "source": [
    "print(rebecca.report())\n"
   ]
  },
  {
   "cell_type": "code",
   "execution_count": 35,
   "metadata": {
    "collapsed": true
   },
   "outputs": [],
   "source": [
    "students = []\n",
    "for num in range(4):\n",
    "    students.append(Student('student%s' % num, 'last name', date(2010, 3, 3),'1234', 'English', 'Senior'))"
   ]
  },
  {
   "cell_type": "markdown",
   "metadata": {},
   "source": [
    "count = 0 --> \"singleton\"\n",
    "\n",
    "@classmethod: \n",
    "\n",
    "means you don't have to have the object to call the method; call it on the class. "
   ]
  },
  {
   "cell_type": "code",
   "execution_count": 36,
   "metadata": {
    "collapsed": true
   },
   "outputs": [],
   "source": [
    "class Author():\n",
    "    \n",
    "    def __init__(self, lname, fname):\n",
    "        self.lname = lname\n",
    "        self.fname = fname\n",
    "\n",
    "class Book():\n",
    "    \n",
    "    count = 0\n",
    "    \n",
    "    def __init__(self, title, author):\n",
    "        Book.count += 1\n",
    "        self.title = title\n",
    "        self.author = author\n",
    "    \n",
    "    @classmethod\n",
    "    def howmany(cls):\n",
    "        return cls.count\n",
    "    "
   ]
  },
  {
   "cell_type": "code",
   "execution_count": 37,
   "metadata": {},
   "outputs": [
    {
     "data": {
      "text/plain": [
       "1"
      ]
     },
     "execution_count": 37,
     "metadata": {},
     "output_type": "execute_result"
    }
   ],
   "source": [
    "auth1 = Author('Vonnegut', 'Kurt')\n",
    "\n",
    "book1 = Book('Slaughterhouse Five', auth1)\n",
    "\n",
    "\n",
    "Book.count"
   ]
  },
  {
   "cell_type": "code",
   "execution_count": 40,
   "metadata": {},
   "outputs": [
    {
     "data": {
      "text/plain": [
       "1"
      ]
     },
     "execution_count": 40,
     "metadata": {},
     "output_type": "execute_result"
    }
   ],
   "source": [
    "book1.howmany()\n"
   ]
  },
  {
   "cell_type": "code",
   "execution_count": 41,
   "metadata": {
    "collapsed": true
   },
   "outputs": [],
   "source": [
    "\n",
    "book2 = Book(\"Cat's Cradle\", auth1)\n",
    "book3 = Book('Bluebeard', auth1)"
   ]
  },
  {
   "cell_type": "code",
   "execution_count": 42,
   "metadata": {},
   "outputs": [
    {
     "data": {
      "text/plain": [
       "3"
      ]
     },
     "execution_count": 42,
     "metadata": {},
     "output_type": "execute_result"
    }
   ],
   "source": [
    "book1.howmany()\n"
   ]
  },
  {
   "cell_type": "code",
   "execution_count": 43,
   "metadata": {},
   "outputs": [
    {
     "data": {
      "text/plain": [
       "3"
      ]
     },
     "execution_count": 43,
     "metadata": {},
     "output_type": "execute_result"
    }
   ],
   "source": [
    "Book.count"
   ]
  },
  {
   "cell_type": "code",
   "execution_count": 45,
   "metadata": {},
   "outputs": [
    {
     "data": {
      "text/plain": [
       "<__main__.Author at 0x1047fe710>"
      ]
     },
     "execution_count": 45,
     "metadata": {},
     "output_type": "execute_result"
    }
   ],
   "source": [
    "auth1"
   ]
  },
  {
   "cell_type": "code",
   "execution_count": 46,
   "metadata": {},
   "outputs": [
    {
     "data": {
      "text/plain": [
       "'Vonnegut'"
      ]
     },
     "execution_count": 46,
     "metadata": {},
     "output_type": "execute_result"
    }
   ],
   "source": [
    "auth1.lname"
   ]
  },
  {
   "cell_type": "code",
   "execution_count": 47,
   "metadata": {},
   "outputs": [
    {
     "ename": "AttributeError",
     "evalue": "'Book' object has no attribute 'auth'",
     "output_type": "error",
     "traceback": [
      "\u001b[0;31m---------------------------------------------------------------------------\u001b[0m",
      "\u001b[0;31mAttributeError\u001b[0m                            Traceback (most recent call last)",
      "\u001b[0;32m<ipython-input-47-6ea5972a4e78>\u001b[0m in \u001b[0;36m<module>\u001b[0;34m()\u001b[0m\n\u001b[0;32m----> 1\u001b[0;31m \u001b[0mbook1\u001b[0m\u001b[0;34m.\u001b[0m\u001b[0mauth\u001b[0m\u001b[0;34m\u001b[0m\u001b[0m\n\u001b[0m",
      "\u001b[0;31mAttributeError\u001b[0m: 'Book' object has no attribute 'auth'"
     ]
    }
   ],
   "source": [
    "book1.auth"
   ]
  },
  {
   "cell_type": "code",
   "execution_count": 49,
   "metadata": {},
   "outputs": [
    {
     "data": {
      "text/plain": [
       "'Vonnegut'"
      ]
     },
     "execution_count": 49,
     "metadata": {},
     "output_type": "execute_result"
    }
   ],
   "source": [
    "book1.author.lname"
   ]
  },
  {
   "cell_type": "markdown",
   "metadata": {},
   "source": [
    "## Static methods\n",
    "\n",
    "methods you can call without ever instantiating an object (e.g., utility methods with math)"
   ]
  },
  {
   "cell_type": "code",
   "execution_count": 50,
   "metadata": {
    "collapsed": true
   },
   "outputs": [],
   "source": [
    "class User():\n",
    "    \n",
    "    count = 0\n",
    "    \n",
    "    def __init__(self, handle):\n",
    "        self.handle = handle\n",
    "        User.count += 1\n",
    "        \n",
    "    def __del__(self):\n",
    "        User.count -= 1\n",
    "        \n",
    "    @staticmethod\n",
    "    def how_awesome():\n",
    "        if User.count < 100:\n",
    "            return 'Nobody likes us'\n",
    "        if User.count < 1000:\n",
    "            return 'We need a makeover'\n",
    "        if User.count > 10000:\n",
    "            return 'We are awesome!'\n",
    "        else:\n",
    "            return \"We're doing OK\""
   ]
  },
  {
   "cell_type": "code",
   "execution_count": 57,
   "metadata": {},
   "outputs": [
    {
     "name": "stdout",
     "output_type": "stream",
     "text": [
      "user0\n",
      "user1\n",
      "user2\n",
      "user3\n",
      "user4\n",
      "user5\n",
      "user6\n",
      "user7\n",
      "user8\n",
      "user9\n",
      "user10\n",
      "user11\n",
      "user12\n",
      "user13\n",
      "user14\n",
      "user15\n",
      "user16\n",
      "user17\n",
      "user18\n",
      "user19\n"
     ]
    }
   ],
   "source": [
    "users = []\n",
    "for num in range(20):\n",
    "    new_user = User('user%s' % num)\n",
    "    print(new_user.handle)\n",
    "    users.append(new_user)\n"
   ]
  },
  {
   "cell_type": "code",
   "execution_count": null,
   "metadata": {
    "collapsed": true
   },
   "outputs": [],
   "source": []
  },
  {
   "cell_type": "code",
   "execution_count": 58,
   "metadata": {
    "collapsed": true
   },
   "outputs": [],
   "source": [
    "user0 = users[0]"
   ]
  },
  {
   "cell_type": "code",
   "execution_count": 59,
   "metadata": {},
   "outputs": [
    {
     "data": {
      "text/plain": [
       "'Nobody likes us'"
      ]
     },
     "execution_count": 59,
     "metadata": {},
     "output_type": "execute_result"
    }
   ],
   "source": [
    "user0.how_awesome()"
   ]
  },
  {
   "cell_type": "code",
   "execution_count": 60,
   "metadata": {},
   "outputs": [],
   "source": [
    "del users"
   ]
  },
  {
   "cell_type": "code",
   "execution_count": 64,
   "metadata": {},
   "outputs": [
    {
     "name": "stdout",
     "output_type": "stream",
     "text": [
      "\n",
      "Adding a bunch more users!\n",
      "We are awesome!\n"
     ]
    }
   ],
   "source": [
    "print('\\nAdding a bunch more users!')\n",
    "users = [User('user%s' % num) for num in range(20000)]\n",
    "print(User.how_awesome())"
   ]
  },
  {
   "cell_type": "code",
   "execution_count": 65,
   "metadata": {
    "collapsed": true
   },
   "outputs": [],
   "source": [
    "del users"
   ]
  },
  {
   "cell_type": "markdown",
   "metadata": {},
   "source": [
    "# Polymorphism\n",
    "\n",
    "treatment of multiple classes as the same"
   ]
  },
  {
   "cell_type": "code",
   "execution_count": 67,
   "metadata": {
    "collapsed": true
   },
   "outputs": [],
   "source": [
    "class Shape():\n",
    "    \n",
    "    def __init__(self, height, width):\n",
    "        self.height = height\n",
    "        self.width = width\n",
    "    \n",
    "    \n",
    "    def area(self):\n",
    "        return self.height * self.width\n",
    "\n",
    "class Rectangle(Shape):\n",
    "    pass\n",
    "\n",
    "class Square(Rectangle):\n",
    "    \n",
    "    def __init__(self, side):\n",
    "        self.height = side\n",
    "        self.width = side\n",
    "    \n",
    "class Circle(Shape):\n",
    "    \n",
    "    def __init__(self, radius):\n",
    "        self.radius = radius\n",
    "        \n",
    "    def area(self):\n",
    "        from math import pi\n",
    "        return pi * self.radius**2\n",
    "\n",
    "class Triangle(Shape):\n",
    "    \n",
    "    #def __init__(self, height, width):\n",
    "    #    super().__init__(height, width)\n",
    "    \n",
    "    def area(self):\n",
    "        return super().area() * 0.5"
   ]
  },
  {
   "cell_type": "code",
   "execution_count": 68,
   "metadata": {
    "collapsed": true
   },
   "outputs": [],
   "source": [
    "shapes = [Square(5),  Circle(2.5), Triangle(5, 5)]"
   ]
  },
  {
   "cell_type": "code",
   "execution_count": 69,
   "metadata": {
    "collapsed": true
   },
   "outputs": [],
   "source": [
    "def list_shapes(shapes):\n",
    "    output = 'Listing {} shapes\\n------------------\\n'.format(len(shapes))\n",
    "    for shape in shapes:\n",
    "        output += 'type: {}\\n'.format(type(shape))\n",
    "        for key, value in vars(shape).items():\n",
    "            output += '{}: {}\\n'.format(key, value)\n",
    "        output += 'area: {}\\n\\n'.format(shape.area())\n",
    "    return output"
   ]
  },
  {
   "cell_type": "code",
   "execution_count": 70,
   "metadata": {},
   "outputs": [
    {
     "name": "stdout",
     "output_type": "stream",
     "text": [
      "Listing 3 shapes\n",
      "------------------\n",
      "type: <class '__main__.Square'>\n",
      "width: 5\n",
      "height: 5\n",
      "area: 25\n",
      "\n",
      "type: <class '__main__.Circle'>\n",
      "radius: 2.5\n",
      "area: 19.634954084936208\n",
      "\n",
      "type: <class '__main__.Triangle'>\n",
      "width: 5\n",
      "height: 5\n",
      "area: 12.5\n",
      "\n",
      "\n"
     ]
    }
   ],
   "source": [
    "print(list_shapes(shapes))"
   ]
  },
  {
   "cell_type": "code",
   "execution_count": 72,
   "metadata": {
    "collapsed": true
   },
   "outputs": [],
   "source": [
    "sq = Square(5)"
   ]
  },
  {
   "cell_type": "code",
   "execution_count": 75,
   "metadata": {},
   "outputs": [
    {
     "data": {
      "text/plain": [
       "{'height': 5, 'width': 5}"
      ]
     },
     "execution_count": 75,
     "metadata": {},
     "output_type": "execute_result"
    }
   ],
   "source": [
    "vars(sq)"
   ]
  },
  {
   "cell_type": "markdown",
   "metadata": {},
   "source": [
    "vars() gives you all attributes of a particular object"
   ]
  },
  {
   "cell_type": "code",
   "execution_count": 76,
   "metadata": {},
   "outputs": [
    {
     "data": {
      "text/plain": [
       "['__class__',\n",
       " '__delattr__',\n",
       " '__dict__',\n",
       " '__dir__',\n",
       " '__doc__',\n",
       " '__eq__',\n",
       " '__format__',\n",
       " '__ge__',\n",
       " '__getattribute__',\n",
       " '__gt__',\n",
       " '__hash__',\n",
       " '__init__',\n",
       " '__le__',\n",
       " '__lt__',\n",
       " '__module__',\n",
       " '__ne__',\n",
       " '__new__',\n",
       " '__reduce__',\n",
       " '__reduce_ex__',\n",
       " '__repr__',\n",
       " '__setattr__',\n",
       " '__sizeof__',\n",
       " '__str__',\n",
       " '__subclasshook__',\n",
       " '__weakref__',\n",
       " 'area',\n",
       " 'height',\n",
       " 'width']"
      ]
     },
     "execution_count": 76,
     "metadata": {},
     "output_type": "execute_result"
    }
   ],
   "source": [
    "dir(sq)"
   ]
  },
  {
   "cell_type": "markdown",
   "metadata": {},
   "source": [
    "dir() gives you all of the attributes and methods"
   ]
  },
  {
   "cell_type": "code",
   "execution_count": 77,
   "metadata": {},
   "outputs": [
    {
     "ename": "AttributeError",
     "evalue": "'Person' object has no attribute '__ssn'",
     "output_type": "error",
     "traceback": [
      "\u001b[0;31m---------------------------------------------------------------------------\u001b[0m",
      "\u001b[0;31mAttributeError\u001b[0m                            Traceback (most recent call last)",
      "\u001b[0;32m<ipython-input-77-1a01709d60af>\u001b[0m in \u001b[0;36m<module>\u001b[0;34m()\u001b[0m\n\u001b[1;32m      7\u001b[0m \u001b[0mdude\u001b[0m \u001b[0;34m=\u001b[0m \u001b[0mPerson\u001b[0m\u001b[0;34m(\u001b[0m\u001b[0;34m'Lebowski'\u001b[0m\u001b[0;34m,\u001b[0m \u001b[0;34m'123-45-6789'\u001b[0m\u001b[0;34m)\u001b[0m\u001b[0;34m\u001b[0m\u001b[0m\n\u001b[1;32m      8\u001b[0m \u001b[0;34m\u001b[0m\u001b[0m\n\u001b[0;32m----> 9\u001b[0;31m \u001b[0mdude\u001b[0m\u001b[0;34m.\u001b[0m\u001b[0m__ssn\u001b[0m\u001b[0;34m\u001b[0m\u001b[0m\n\u001b[0m",
      "\u001b[0;31mAttributeError\u001b[0m: 'Person' object has no attribute '__ssn'"
     ]
    }
   ],
   "source": [
    "class Person():\n",
    "    \n",
    "    def __init__(self, name, ssn):\n",
    "        self.name = name\n",
    "        self.__ssn = ssn\n",
    "        \n",
    "dude = Person('Lebowski', '123-45-6789')\n",
    "\n",
    "dude.__ssn"
   ]
  },
  {
   "cell_type": "code",
   "execution_count": 78,
   "metadata": {},
   "outputs": [
    {
     "data": {
      "text/plain": [
       "{'_Person__ssn': '123-45-6789', 'name': 'Lebowski'}"
      ]
     },
     "execution_count": 78,
     "metadata": {},
     "output_type": "execute_result"
    }
   ],
   "source": [
    "vars(dude)"
   ]
  },
  {
   "cell_type": "code",
   "execution_count": 79,
   "metadata": {},
   "outputs": [
    {
     "data": {
      "text/plain": [
       "<__main__.Person at 0x104786908>"
      ]
     },
     "execution_count": 79,
     "metadata": {},
     "output_type": "execute_result"
    }
   ],
   "source": [
    "dude"
   ]
  },
  {
   "cell_type": "markdown",
   "metadata": {},
   "source": [
    "This is a way to hide things so they can't be accessed directly"
   ]
  },
  {
   "cell_type": "code",
   "execution_count": 81,
   "metadata": {
    "collapsed": true
   },
   "outputs": [],
   "source": [
    "class Circle():\n",
    "    \n",
    "    def __init__(self, radius):\n",
    "        self.radius = radius\n",
    "    \n",
    "    @property\n",
    "    def radius(self):\n",
    "        return self.__radius\n",
    "        \n",
    "    @radius.setter\n",
    "    def radius(self, radius):\n",
    "        if radius >= 0:\n",
    "            self.__radius = radius\n",
    "        else:\n",
    "            raise Exception('Radius must be non-negative')\n",
    "    \n",
    "    @property\n",
    "    def area(self):\n",
    "        from math import pi\n",
    "        return pi * self.radius**2"
   ]
  },
  {
   "cell_type": "code",
   "execution_count": 82,
   "metadata": {},
   "outputs": [
    {
     "data": {
      "text/plain": [
       "3.141592653589793"
      ]
     },
     "execution_count": 82,
     "metadata": {},
     "output_type": "execute_result"
    }
   ],
   "source": [
    "circ = Circle(1)\n",
    "\n",
    "circ.area"
   ]
  },
  {
   "cell_type": "markdown",
   "metadata": {},
   "source": [
    "## Special Methods ('magic methods')"
   ]
  },
  {
   "cell_type": "code",
   "execution_count": 83,
   "metadata": {
    "collapsed": true
   },
   "outputs": [],
   "source": [
    "class Person():\n",
    "    \n",
    "    def __init__(self, name):\n",
    "        self.name = name"
   ]
  },
  {
   "cell_type": "code",
   "execution_count": 84,
   "metadata": {},
   "outputs": [
    {
     "name": "stdout",
     "output_type": "stream",
     "text": [
      "<__main__.Person object at 0x10475def0>\n"
     ]
    }
   ],
   "source": [
    "p = Person('Barack Obama')\n",
    "\n",
    "print(p)"
   ]
  },
  {
   "cell_type": "markdown",
   "metadata": {},
   "source": [
    "what if we want to change the magic methods?\n",
    "\n",
    "- __str__ gives us what will print out \n",
    "- __repr__ gives us what will echo"
   ]
  },
  {
   "cell_type": "code",
   "execution_count": 86,
   "metadata": {
    "collapsed": true
   },
   "outputs": [],
   "source": [
    "class Person():\n",
    "    \n",
    "    def __init__(self, name):\n",
    "        self.name = name\n",
    "    \n",
    "    def __str__(self):\n",
    "        return self.name\n",
    "    \n",
    "    def __repr__(self):\n",
    "        return '<Person: %s>' % self.name"
   ]
  },
  {
   "cell_type": "code",
   "execution_count": 87,
   "metadata": {},
   "outputs": [
    {
     "name": "stdout",
     "output_type": "stream",
     "text": [
      "Barack Obama\n"
     ]
    }
   ],
   "source": [
    "p = Person('Barack Obama')\n",
    "\n",
    "print(p)"
   ]
  },
  {
   "cell_type": "code",
   "execution_count": 88,
   "metadata": {},
   "outputs": [
    {
     "data": {
      "text/plain": [
       "<Person: Barack Obama>"
      ]
     },
     "execution_count": 88,
     "metadata": {},
     "output_type": "execute_result"
    }
   ],
   "source": [
    "p"
   ]
  },
  {
   "cell_type": "markdown",
   "metadata": {},
   "source": [
    "List of other special methods: https://docs.python.org/3/reference/datamodel.html#special-method-names"
   ]
  },
  {
   "cell_type": "code",
   "execution_count": 90,
   "metadata": {
    "collapsed": true
   },
   "outputs": [],
   "source": [
    "class Person():\n",
    "    \n",
    "    def __init__(self, name, ssn):\n",
    "        self.name = name\n",
    "        self.ssn = ssn\n",
    "        \n",
    "    def __eq__(self, other_person):\n",
    "        if self.ssn == other_person.ssn:\n",
    "            return True\n",
    "        return False\n"
   ]
  },
  {
   "cell_type": "code",
   "execution_count": 91,
   "metadata": {},
   "outputs": [
    {
     "data": {
      "text/plain": [
       "False"
      ]
     },
     "execution_count": 91,
     "metadata": {},
     "output_type": "execute_result"
    }
   ],
   "source": [
    "p1 = Person('Hillary Rodham', '123456789')\n",
    "p2 = Person('Hillary Rodham', '000000000')\n",
    "p3 = Person('Hillary Clinton', '123456789')\n",
    "\n",
    "p1 == p2"
   ]
  },
  {
   "cell_type": "code",
   "execution_count": 92,
   "metadata": {},
   "outputs": [
    {
     "data": {
      "text/plain": [
       "True"
      ]
     },
     "execution_count": 92,
     "metadata": {},
     "output_type": "execute_result"
    }
   ],
   "source": [
    "p1 == p3"
   ]
  },
  {
   "cell_type": "code",
   "execution_count": null,
   "metadata": {
    "collapsed": true
   },
   "outputs": [],
   "source": []
  }
 ],
 "metadata": {
  "kernelspec": {
   "display_name": "Python 3",
   "language": "python",
   "name": "python3"
  },
  "language_info": {
   "codemirror_mode": {
    "name": "ipython",
    "version": 3
   },
   "file_extension": ".py",
   "mimetype": "text/x-python",
   "name": "python",
   "nbconvert_exporter": "python",
   "pygments_lexer": "ipython3",
   "version": "3.5.0"
  }
 },
 "nbformat": 4,
 "nbformat_minor": 2
}
